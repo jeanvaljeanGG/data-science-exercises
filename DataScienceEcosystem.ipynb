{
 "cells": [
  {
   "attachments": {},
   "cell_type": "markdown",
   "id": "ba068c51-cb99-4ba8-9c5d-bf31b66067ce",
   "metadata": {},
   "source": [
    "# Data Science Tools and Ecosystem\n",
    "\n",
    " In this notebook, Data Science Tools and Ecosystem are summarized. \n",
    "\n",
    "\n",
    "\n",
    "\n"
   ]
  },
  {
   "cell_type": "markdown",
   "id": "cdb8c78a-e4f8-40e2-96eb-f225ef2069f3",
   "metadata": {},
   "source": [
    "**Objectives:**\n",
    "\n",
    "- List popular languages for Data Science.\n",
    "- Identify commonly used libraries by Data Scientists.\n",
    "- Demonstrate arithmetic operations in Python.\n",
    "- Convert time units from minutes to hours.\n",
    "- Explore development environment tools used in Data Science.\n"
   ]
  },
  {
   "cell_type": "markdown",
   "id": "a1deb5c4-27ec-4843-93ff-c9a2e48f4bdc",
   "metadata": {},
   "source": [
    "Some of the popular languages that Data Scientists use are:\n",
    "\n",
    "1. Python\n",
    "2. R\n",
    "3. java\n",
    "4. Julia\n",
    "5. SQL\n"
   ]
  },
  {
   "cell_type": "markdown",
   "id": "a11b4833-d631-4fc2-af1e-62b83ac11760",
   "metadata": {},
   "source": [
    "Some of the commonly used libraries used by Data Scientists include:\n",
    "\n",
    "1. NumPy\n",
    "2. Pandas\n",
    "3. Matplotlib\n",
    "4. Scikit-learn\n",
    "5. TensorFlow\n",
    "6. Keras\n",
    "7. GGplot2"
   ]
  },
  {
   "cell_type": "markdown",
   "id": "a8bc179f-166f-46a1-bb8c-b1b7e52c199b",
   "metadata": {},
   "source": [
    "| Data Science Tools             |\n",
    "|--------------------------------|\n",
    "| Jupyter Notebook               |\n",
    "| RStudio                        |\n",
    "| Apache Hadoop                |\n"
   ]
  },
  {
   "cell_type": "markdown",
   "id": "8cb88883-48d4-4fde-9f87-072effb2e766",
   "metadata": {},
   "source": [
    "### Below are a few examples of evaluating arithmetic expressions in Python.\n"
   ]
  },
  {
   "cell_type": "markdown",
   "id": "33b01c61-5340-4e48-9cb8-6c8552010214",
   "metadata": {},
   "source": [
    "# Example 1: Addition\n",
    "4 + 5\n",
    "# Example 2: Multiplication\n",
    "8 * 7\n",
    "# Example 3: Division\n",
    "6 / 2\n"
   ]
  },
  {
   "cell_type": "code",
   "execution_count": 24,
   "id": "c3d23d4c-fba1-43e8-a725-2f1450a801ac",
   "metadata": {},
   "outputs": [
    {
     "data": {
      "text/plain": [
       "17"
      ]
     },
     "execution_count": 24,
     "metadata": {},
     "output_type": "execute_result"
    }
   ],
   "source": [
    "# This is a simple arithmetic expression to multiply then add integers\n",
    "(3 * 4) + 5\n"
   ]
  },
  {
   "cell_type": "code",
   "execution_count": 26,
   "id": "8bca5dc5-22a3-44f5-8a2e-f87c3d7b1081",
   "metadata": {},
   "outputs": [
    {
     "data": {
      "text/plain": [
       "3.3333333333333335"
      ]
     },
     "execution_count": 26,
     "metadata": {},
     "output_type": "execute_result"
    }
   ],
   "source": [
    "# This will convert 200 minutes to hours by dividing by 60\n",
    "200 / 60\n"
   ]
  },
  {
   "cell_type": "markdown",
   "id": "2f21b008-4537-4aa7-a8e6-9bdb6ed223eb",
   "metadata": {},
   "source": [
    "## Author\n",
    "\n",
    "Carlos Giovanni Garfias R.      (The_Seeker)\n"
   ]
  },
  {
   "cell_type": "code",
   "execution_count": null,
   "id": "fb5afe56-0fa7-47db-9da1-caca99afeeb6",
   "metadata": {},
   "outputs": [],
   "source": []
  }
 ],
 "metadata": {
  "kernelspec": {
   "display_name": "Python 3 (ipykernel)",
   "language": "python",
   "name": "python3"
  },
  "language_info": {
   "codemirror_mode": {
    "name": "ipython",
    "version": 3
   },
   "file_extension": ".py",
   "mimetype": "text/x-python",
   "name": "python",
   "nbconvert_exporter": "python",
   "pygments_lexer": "ipython3",
   "version": "3.12.4"
  }
 },
 "nbformat": 4,
 "nbformat_minor": 5
}
